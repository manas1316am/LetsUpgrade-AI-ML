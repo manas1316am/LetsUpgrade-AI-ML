{
 "cells": [
  {
   "cell_type": "markdown",
   "metadata": {},
   "source": [
    "## 1. Assuming that we have some email addresses in the \"username@companyname.com\" format, please write program to print the company name of a given email address. Both user names and company names are composed of letters only."
   ]
  },
  {
   "cell_type": "code",
   "execution_count": 3,
   "metadata": {},
   "outputs": [
    {
     "name": "stdout",
     "output_type": "stream",
     "text": [
      "mk1316jes@gmail.com\n",
      "gmail\n"
     ]
    }
   ],
   "source": [
    "email = input()\n",
    "\n",
    "if ('@' in email) and ('.' in email):\n",
    "    index_at = email.index('@')\n",
    "    index_dot = email.index('.')\n",
    "print(email[index_at+1:index_dot])\n"
   ]
  },
  {
   "cell_type": "markdown",
   "metadata": {},
   "source": [
    "## 2. Write a program that accepts a comma-separated sequence of words as input and prints the words in a comma separated sequence after sorting them alphabetically."
   ]
  },
  {
   "cell_type": "code",
   "execution_count": 8,
   "metadata": {},
   "outputs": [
    {
     "name": "stdout",
     "output_type": "stream",
     "text": [
      "Enter values: \n",
      "without, hello, bag, world\n",
      "['bag', 'hello', 'without', 'world']\n"
     ]
    }
   ],
   "source": [
    "num = list(map(str, input('Enter values: \\n').split(', ')))\n",
    "print(sorted(num))"
   ]
  },
  {
   "cell_type": "markdown",
   "metadata": {},
   "source": [
    "## 3. Create your own Jupyter Notebook for Sets."
   ]
  },
  {
   "cell_type": "markdown",
   "metadata": {},
   "source": [
    "> A set is a collection which is unordered and unindexed. In python sets are written with curly brackets\n",
    "\n",
    "> Sets are Unordered\n",
    "\n",
    "> We can't access items in a set by referring to an index, since index are unordered"
   ]
  },
  {
   "cell_type": "code",
   "execution_count": 13,
   "metadata": {},
   "outputs": [
    {
     "name": "stdout",
     "output_type": "stream",
     "text": [
      "{'cherry', 'apple', 'banana'}\n",
      "True\n"
     ]
    }
   ],
   "source": [
    "# CREATE A SET\n",
    "a = {'apple', 'banana', 'cherry'}\n",
    "print(a)\n",
    "# Checking items in set\n",
    "print('apple' in  a)"
   ]
  },
  {
   "cell_type": "code",
   "execution_count": 14,
   "metadata": {},
   "outputs": [
    {
     "name": "stdout",
     "output_type": "stream",
     "text": [
      "{'orange', 'cherry', 'apple', 'banana'}\n"
     ]
    }
   ],
   "source": [
    "# add() method: add an item to the set\n",
    "a = {'apple', 'banana', 'cherry'}\n",
    "a.add('orange')\n",
    "print(a)"
   ]
  },
  {
   "cell_type": "code",
   "execution_count": 15,
   "metadata": {},
   "outputs": [
    {
     "name": "stdout",
     "output_type": "stream",
     "text": [
      "{'orange', 'mango', 'grapes', 'cherry', 'apple', 'banana'}\n"
     ]
    }
   ],
   "source": [
    "# update() method: add multiple items to a set\n",
    "a = {'apple', 'banana', 'cherry'}\n",
    "a.update(['orange', 'mango', 'grapes'])\n",
    "print(a)"
   ]
  },
  {
   "cell_type": "code",
   "execution_count": 23,
   "metadata": {},
   "outputs": [
    {
     "name": "stdout",
     "output_type": "stream",
     "text": [
      "{'cherry', 'apple'}\n",
      "{'apple'}\n"
     ]
    }
   ],
   "source": [
    "# remove() method: remove an item in a set\n",
    "a = {\"apple\", \"banana\", \"cherry\"}\n",
    "a.remove(\"banana\")\n",
    "print(a)\n",
    "\n",
    "# discard() method: remove an item in a set\n",
    "a.discard(\"cherry\")\n",
    "print(a)"
   ]
  },
  {
   "cell_type": "markdown",
   "metadata": {},
   "source": [
    "> if the item does not exist in the set, then remove() will raise an error, but discard() will not raise any error"
   ]
  },
  {
   "cell_type": "code",
   "execution_count": 25,
   "metadata": {},
   "outputs": [
    {
     "name": "stdout",
     "output_type": "stream",
     "text": [
      "{'apple', 'banana'}\n"
     ]
    }
   ],
   "source": [
    "# pop() method: remove the last item of the set\n",
    "a = {\"apple\", \"banana\", \"cherry\"}\n",
    "a.pop()\n",
    "print(a)"
   ]
  },
  {
   "cell_type": "markdown",
   "metadata": {},
   "source": [
    "> Sets are unordered, so we don't know that which element is gonna be removed"
   ]
  },
  {
   "cell_type": "code",
   "execution_count": 26,
   "metadata": {},
   "outputs": [
    {
     "name": "stdout",
     "output_type": "stream",
     "text": [
      "set()\n"
     ]
    }
   ],
   "source": [
    "# clear() method: clear the whole set\n",
    "a = {\"apple\", \"banana\", \"cherry\"}\n",
    "a.clear()\n",
    "\n",
    "print(a)"
   ]
  },
  {
   "cell_type": "markdown",
   "metadata": {},
   "source": [
    "## 4. Given a list of n-1 numbers ranging from 1 to n, your task is to find the missing number. There are no duplicates."
   ]
  },
  {
   "cell_type": "code",
   "execution_count": 29,
   "metadata": {},
   "outputs": [
    {
     "name": "stdout",
     "output_type": "stream",
     "text": [
      "5\n"
     ]
    }
   ],
   "source": [
    "def missing(a,n):\n",
    "    x1 = a[0]\n",
    "    x2 = 1\n",
    "    \n",
    "    for i in range(1, n):\n",
    "        x1 = x1 ^ a[i]\n",
    "        \n",
    "    for i in range(2, n+2):\n",
    "        x2 = x2 ^ i\n",
    "    \n",
    "    return x1 ^ x2\n",
    "\n",
    "# Driver Program\n",
    "if __name__ == '__main__':\n",
    "    \n",
    "    a = [1,2,4,6,3,7,8]\n",
    "    n = len(a)\n",
    "    miss = missing(a, n)\n",
    "    print(miss)\n",
    "    "
   ]
  },
  {
   "cell_type": "markdown",
   "metadata": {},
   "source": [
    "## 5. With a given list L, write a program to print this list L after removing all duplicate values with original order reserved."
   ]
  },
  {
   "cell_type": "code",
   "execution_count": 37,
   "metadata": {},
   "outputs": [
    {
     "name": "stdout",
     "output_type": "stream",
     "text": [
      "[12, 24, 35, 88, 120, 155]\n"
     ]
    }
   ],
   "source": [
    "d = [12,24,35,24,88,120,155,88,120,155]\n",
    "print(sorted(list(set(d))))"
   ]
  }
 ],
 "metadata": {
  "kernelspec": {
   "display_name": "Python 3",
   "language": "python",
   "name": "python3"
  },
  "language_info": {
   "codemirror_mode": {
    "name": "ipython",
    "version": 3
   },
   "file_extension": ".py",
   "mimetype": "text/x-python",
   "name": "python",
   "nbconvert_exporter": "python",
   "pygments_lexer": "ipython3",
   "version": "3.7.7"
  }
 },
 "nbformat": 4,
 "nbformat_minor": 4
}
