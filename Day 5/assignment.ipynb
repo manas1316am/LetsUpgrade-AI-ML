{
 "cells": [
  {
   "cell_type": "markdown",
   "metadata": {},
   "source": [
    "## 1. Write a Python program to find the first 20 non-even prime natural numbers."
   ]
  },
  {
   "cell_type": "code",
   "execution_count": 2,
   "metadata": {},
   "outputs": [
    {
     "name": "stdout",
     "output_type": "stream",
     "text": [
      "[2, 3, 5, 7, 11, 13, 17, 19, 23, 29, 31, 37, 41, 43, 47, 53, 59, 61, 67, 71]\n"
     ]
    }
   ],
   "source": [
    "def generate_primes(n):\n",
    "    primes = []\n",
    "    a = 2\n",
    "    while(len(primes) < n):\n",
    "        b = [a for i in primes if a % i == 0]\n",
    "        primes += [] if b else [a]\n",
    "        a += 1\n",
    "    return primes\n",
    "\n",
    "print(generate_primes(20))"
   ]
  },
  {
   "cell_type": "markdown",
   "metadata": {},
   "source": [
    "## 2. Write a Python program to implement 15 functions of string."
   ]
  },
  {
   "cell_type": "code",
   "execution_count": 4,
   "metadata": {},
   "outputs": [
    {
     "name": "stdout",
     "output_type": "stream",
     "text": [
      "I want to change the world with the help of technology.\n",
      "2\n",
      "b'i want to change the World with the help of Technology.'\n",
      "i want to change the India with the help of Technology.\n",
      "['i', 'want', 'to', 'change', 'the', 'World', 'with', 'the', 'help', 'of', 'Technology.']\n",
      "I WANT TO CHANGE THE wORLD WITH THE HELP OF tECHNOLOGY.\n",
      "I WANT TO CHANGE THE WORLD WITH THE HELP OF TECHNOLOGY.\n",
      "i want to change the world with the help of technology.\n",
      "True\n",
      "10\n",
      "False\n",
      "False\n",
      "False\n",
      "False\n",
      "False\n"
     ]
    }
   ],
   "source": [
    "a = \"i want to change the World with the help of Technology.\"\n",
    "\n",
    "print(a.capitalize()) # it capitalize the first letter of a string.\n",
    "print(a.count('a')) # To count the no. of occurence\n",
    "print(a.encode()) # Returns the encoded version of the string\n",
    "print(a.replace(\"World\",\"India\")) # Replcement\n",
    "print(a.split()) # Split method\n",
    "print(a.swapcase()) # SwapCase\n",
    "print(a.upper()) #Uppercase\n",
    "print(a.lower()) #Lowecase\n",
    "print(a.endswith('.')) # Endswith\n",
    "print(a.find('change')) # ind\n",
    "print(a.isalnum()) # isalnum\n",
    "print(a.isalpha()) # isalpha\n",
    "print(a.isdigit()) #isdigit\n",
    "print(a.islower()) #islower\n",
    "print(a.istitle()) # isTitle"
   ]
  },
  {
   "cell_type": "markdown",
   "metadata": {},
   "source": [
    "## 3. Write a Python program to check if the given string is a Palindrome or Anagram or None of them. Display the message accordingly to the user."
   ]
  },
  {
   "cell_type": "code",
   "execution_count": 6,
   "metadata": {},
   "outputs": [
    {
     "name": "stdout",
     "output_type": "stream",
     "text": [
      "Enter a string: dad\n",
      "pallindrome.\n",
      "Enter a string: manas\n",
      "Enter another string: sanam\n",
      "anagram.\n"
     ]
    }
   ],
   "source": [
    "# a = input(\"Enter a string: \")\n",
    "# b = input(\"Enter another string: \")\n",
    "\n",
    "def pallindrome():\n",
    "    a = input(\"Enter a string: \")\n",
    "    if (a == a[::-1]):\n",
    "        print(\"pallindrome.\")\n",
    "    else:\n",
    "        print(\"Not Pallindrome.\")\n",
    "\n",
    "def anagram():\n",
    "    a = input(\"Enter a string: \")\n",
    "    b = input(\"Enter another string: \")\n",
    "    \n",
    "    if (sorted(a) == sorted(b)):\n",
    "        print(\"anagram.\")\n",
    "    else:\n",
    "        print(\"not anagram.\")\n",
    "\n",
    "\n",
    "pallindrome()\n",
    "anagram()"
   ]
  },
  {
   "cell_type": "markdown",
   "metadata": {},
   "source": [
    "## 4. Write a Python's user defined function that removes all the additional characters from the string and converts it finally to lower case using built-in lower()."
   ]
  },
  {
   "cell_type": "code",
   "execution_count": 10,
   "metadata": {},
   "outputs": [
    {
     "name": "stdout",
     "output_type": "stream",
     "text": [
      "drdarshaningleaimltrainer\n"
     ]
    }
   ],
   "source": [
    "a = \"Dr. Darshan Ingle @AI-ML Trainer\"\n",
    "\n",
    "chr_to_remove = ['.', ' ', '@', \"-\"]\n",
    "\n",
    "for i in chr_to_remove:\n",
    "    a = a.replace(i, '')\n",
    "\n",
    "res = a.lower()\n",
    "print(res)"
   ]
  }
 ],
 "metadata": {
  "kernelspec": {
   "display_name": "Python 3",
   "language": "python",
   "name": "python3"
  },
  "language_info": {
   "codemirror_mode": {
    "name": "ipython",
    "version": 3
   },
   "file_extension": ".py",
   "mimetype": "text/x-python",
   "name": "python",
   "nbconvert_exporter": "python",
   "pygments_lexer": "ipython3",
   "version": "3.7.7"
  }
 },
 "nbformat": 4,
 "nbformat_minor": 4
}
