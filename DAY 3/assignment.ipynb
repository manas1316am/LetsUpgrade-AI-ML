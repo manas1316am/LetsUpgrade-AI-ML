{
 "cells": [
  {
   "cell_type": "markdown",
   "metadata": {},
   "source": [
    "## 1. Write a Program to subtract two complex number in Python"
   ]
  },
  {
   "cell_type": "code",
   "execution_count": 7,
   "metadata": {},
   "outputs": [
    {
     "name": "stdout",
     "output_type": "stream",
     "text": [
      "(1-3j)\n"
     ]
    }
   ],
   "source": [
    "first = 5 + 3j\n",
    "second = 4 + 6j\n",
    "\n",
    "res = first - second\n",
    "print(res)"
   ]
  },
  {
   "cell_type": "markdown",
   "metadata": {},
   "source": [
    "## 2. Write a program to find the fourth root of a number."
   ]
  },
  {
   "cell_type": "code",
   "execution_count": 12,
   "metadata": {},
   "outputs": [
    {
     "name": "stdout",
     "output_type": "stream",
     "text": [
      "3.402328159186034\n"
     ]
    }
   ],
   "source": [
    "x = 134\n",
    "b = x**(1/4)\n",
    "print(b)"
   ]
  },
  {
   "cell_type": "markdown",
   "metadata": {},
   "source": [
    "## 3. Write a program to swap two numbers in Python with the help of a temporary variable."
   ]
  },
  {
   "cell_type": "code",
   "execution_count": 14,
   "metadata": {},
   "outputs": [
    {
     "name": "stdout",
     "output_type": "stream",
     "text": [
      "6\n",
      "4\n"
     ]
    }
   ],
   "source": [
    "x = 4\n",
    "y = 6\n",
    "temp = 0\n",
    "\n",
    "temp = x\n",
    "x = y\n",
    "y = temp\n",
    "\n",
    "print(x)\n",
    "print(y)"
   ]
  },
  {
   "cell_type": "markdown",
   "metadata": {},
   "source": [
    "## 4. Write a program to swap two numbers in Python without using a temporary variable."
   ]
  },
  {
   "cell_type": "code",
   "execution_count": 15,
   "metadata": {},
   "outputs": [
    {
     "name": "stdout",
     "output_type": "stream",
     "text": [
      "20\n",
      "10\n"
     ]
    }
   ],
   "source": [
    "a = 10\n",
    "b = 20\n",
    "\n",
    "a = a + b\n",
    "b = a - b\n",
    "a = a - b\n",
    "\n",
    "print(a)\n",
    "print(b)\n"
   ]
  },
  {
   "cell_type": "markdown",
   "metadata": {},
   "source": [
    "## 5. Write a program to convert fahrenheit to kelvin and celsius both."
   ]
  },
  {
   "cell_type": "code",
   "execution_count": 17,
   "metadata": {},
   "outputs": [
    {
     "name": "stdout",
     "output_type": "stream",
     "text": [
      "-144.26111111111112\n",
      "93.33333333333334\n"
     ]
    }
   ],
   "source": [
    "f = 200\n",
    "\n",
    "# Fahreheit to kelvin \n",
    "K = (f- 459.67) * (5/9)\n",
    "print(K) \n",
    "\n",
    "# Fahreheit to celcius\n",
    "C = (f- 32) * (5/9)\n",
    "print(C)"
   ]
  },
  {
   "cell_type": "markdown",
   "metadata": {},
   "source": [
    "## 6. Write a program to demonstrate all the available data types in Python."
   ]
  },
  {
   "cell_type": "code",
   "execution_count": 43,
   "metadata": {},
   "outputs": [
    {
     "name": "stdout",
     "output_type": "stream",
     "text": [
      "<class 'int'>\n",
      "<class 'float'>\n",
      "<class 'complex'>\n",
      "<class 'str'>\n",
      "<class 'bool'>\n",
      "<class 'list'>\n",
      "<class 'tuple'>\n",
      "<class 'range'>\n",
      "<class 'dict'>\n",
      "<class 'set'>\n",
      "<class 'frozenset'>\n",
      "<class 'bytes'>\n",
      "bytearray(b'\\x00\\x00\\x00\\x00\\x00')\n",
      "<class 'memoryview'>\n"
     ]
    }
   ],
   "source": [
    "print(type(10)) # integers\n",
    "\n",
    "print(type(4.2)) # Float\n",
    "\n",
    "print(type(2+3j)) # Complex\n",
    "\n",
    "print(type(\"I am a string\")) # String\n",
    "\n",
    "print(type(True)) # Booloean\n",
    "\n",
    "x = ['apple', 'Mango', 'news']\n",
    "print(type(x)) # lIST\n",
    "\n",
    "x = ('apple', 'Mango', 'news')\n",
    "print(type(x))  # TUPLE\n",
    "\n",
    "x = range(6) \n",
    "print(type(x))  # random_program/ANGE\n",
    "\n",
    "x = {\"name\": \"Manas\", \"age\": \"20\"}\n",
    "print(type(x)) # DICTIONARY\n",
    "\n",
    "x = {'apple', 'Mango', 'news'}\n",
    "print(type(x)) # SET\n",
    "\n",
    "x = frozenset({'apple', 'Mango', 'news'})\n",
    "print(type(x)) # FROZENSET\n",
    "\n",
    "x = b\"hello\"\n",
    "print(type(x)) # BYTE\n",
    "\n",
    "x = bytearray(5) \n",
    "print(x) # BYTEARRAY\n",
    "\n",
    "x = memoryview(bytes(5))\n",
    "print(type(x))"
   ]
  },
  {
   "cell_type": "markdown",
   "metadata": {},
   "source": [
    "## 7. Create a Markdown cell in jupyter and list the steps discussed in the session by Dr. Darshan Ingle sir to create Github profile and upload Githubs Assignment link."
   ]
  },
  {
   "cell_type": "markdown",
   "metadata": {},
   "source": [
    "A. Click on sign up.\n",
    "\n",
    "B. Create an account.\n",
    "\n",
    "C. Click on New (determines new repository).\n",
    "\n",
    "D. Fill the repository by the name as \" LetsUpgrade AI/ML \".\n",
    "\n",
    "E. Upload the files/solution in the repo in day wise manner.\n",
    "\n",
    "F. Copy the URL of the folder of that day and paste in the Assignment Submission Form.\n",
    "\n",
    "G. Make Sure you are filling correct details in the assignment submission form. "
   ]
  },
  {
   "cell_type": "code",
   "execution_count": null,
   "metadata": {},
   "outputs": [],
   "source": [
    "import os\n",
    "os."
   ]
  }
 ],
 "metadata": {
  "kernelspec": {
   "display_name": "Python 3",
   "language": "python",
   "name": "python3"
  },
  "language_info": {
   "codemirror_mode": {
    "name": "ipython",
    "version": 3
   },
   "file_extension": ".py",
   "mimetype": "text/x-python",
   "name": "python",
   "nbconvert_exporter": "python",
   "pygments_lexer": "ipython3",
   "version": "3.7.6"
  }
 },
 "nbformat": 4,
 "nbformat_minor": 4
}
