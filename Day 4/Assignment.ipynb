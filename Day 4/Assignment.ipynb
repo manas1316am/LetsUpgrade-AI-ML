{
 "cells": [
  {
   "cell_type": "markdown",
   "metadata": {},
   "source": [
    "## 1. Research on whether addition, subtraction, multiplication, division, floor division and modulo operations be performed on complex numbers. Based on your study, implement a Python program to demonstrate these operations."
   ]
  },
  {
   "cell_type": "code",
   "execution_count": 14,
   "metadata": {},
   "outputs": [
    {
     "name": "stdout",
     "output_type": "stream",
     "text": [
      "Enter first complex number: 10+5j\n",
      "Enter second complex number: 2+3j\n",
      "Addition: (12+8j)\n",
      "Subtraction: (8+2j)\n",
      "Multiplication: (5+40j)\n",
      "Division: (2.6923076923076925-1.5384615384615385j)\n"
     ]
    }
   ],
   "source": [
    "a = complex(input(\"Enter first complex number: \"))\n",
    "b = complex(input(\"Enter second complex number: \"))\n",
    "\n",
    "# Addition\n",
    "add = a+b\n",
    "print(\"Addition: \"+ str(add))\n",
    "\n",
    "# subtraction\n",
    "sub = a-b\n",
    "print(\"Subtraction: \" + str(sub))\n",
    "\n",
    "# Multiplication\n",
    "multi = a*b\n",
    "print(\"Multiplication: \" + str(a*b))\n",
    "\n",
    "# Division\n",
    "div = a/b\n",
    "print(\"Division: \" + str(div))\n"
   ]
  },
  {
   "cell_type": "markdown",
   "metadata": {},
   "source": [
    "#### Note: We can't do the floor division and modulo operation in complex number"
   ]
  },
  {
   "cell_type": "markdown",
   "metadata": {},
   "source": [
    "## 2. Research on range() functions and its parameters. Create a markdown cell and write in your own words, what you understand about it. Implement a small program of your choice on the same."
   ]
  },
  {
   "cell_type": "markdown",
   "metadata": {},
   "source": [
    "###### range() function is same as it sounds. It takes arguments which works as a range. "
   ]
  },
  {
   "cell_type": "raw",
   "metadata": {},
   "source": [
    "range(10)"
   ]
  },
  {
   "cell_type": "markdown",
   "metadata": {},
   "source": [
    "###### It means that range is from 0 to 9. \n",
    "###### You can take the argument as a length of the range but the actual execution starts from 0 and it goes upto argument - 1"
   ]
  },
  {
   "cell_type": "raw",
   "metadata": {},
   "source": [
    "range(2,10)"
   ]
  },
  {
   "cell_type": "markdown",
   "metadata": {},
   "source": [
    "###### Above range clearly depicts that we took initial and final value of the range.\n",
    "###### Here, range will go from 2 to 9. "
   ]
  },
  {
   "cell_type": "code",
   "execution_count": 18,
   "metadata": {},
   "outputs": [
    {
     "name": "stdout",
     "output_type": "stream",
     "text": [
      "2\n",
      "3\n",
      "4\n",
      "5\n",
      "6\n",
      "7\n",
      "8\n",
      "9\n"
     ]
    }
   ],
   "source": [
    "# range function execution\n",
    "\n",
    "for a in range(2, 10):\n",
    "    print(a)"
   ]
  },
  {
   "cell_type": "markdown",
   "metadata": {},
   "source": [
    "## 3. Consider two numbers. Perform their subtraction and if the result of subtraction is greater than 25, print their multiplication result else print their division result."
   ]
  },
  {
   "cell_type": "code",
   "execution_count": 26,
   "metadata": {},
   "outputs": [
    {
     "name": "stdout",
     "output_type": "stream",
     "text": [
      "Enter the first number: 40\n",
      "Enter the second number: 30\n",
      "The number is less than 25\n",
      "\n",
      "result: 1.3333333333333333\n"
     ]
    }
   ],
   "source": [
    "# We are using input function to take the user input.\n",
    "\n",
    "a = int(input(\"Enter the first number: \"))\n",
    "b = int(input(\"Enter the second number: \"))\n",
    "\n",
    "res = a-b\n",
    "\n",
    "if(res > 25):\n",
    "    print(\"The number is greater than 25\\n\")\n",
    "    print(\"result:\" + str(a*b))\n",
    "else:\n",
    "    print(\"The number is less than 25\\n\")\n",
    "    print(\"result: \" + str(a/b))"
   ]
  },
  {
   "cell_type": "markdown",
   "metadata": {},
   "source": [
    "## 4. Consider a list of 10 elements of integer values. If the number in the list is divisible by 2, print the result as \"square of that number minus 2\"."
   ]
  },
  {
   "cell_type": "code",
   "execution_count": 31,
   "metadata": {},
   "outputs": [
    {
     "name": "stdout",
     "output_type": "stream",
     "text": [
      "Square of 2 minus 2: 2\n",
      "Square of 4 minus 2: 14\n",
      "Square of 6 minus 2: 34\n",
      "Square of 8 minus 2: 62\n",
      "Square of 10 minus 2: 98\n"
     ]
    }
   ],
   "source": [
    "# hardcoding the list\n",
    "\n",
    "a = [1,2,3,4,5,6,7,8,9,10]\n",
    "\n",
    "for n in a:\n",
    "    if(n%2==0):\n",
    "        print(\"Square of {} minus 2: \".format(n) + str(n**2 - 2))"
   ]
  },
  {
   "cell_type": "markdown",
   "metadata": {},
   "source": [
    "## 5. Consider a list of 10 elements. Print all the elements in the list which are greater than 7 when that number is divided 2."
   ]
  },
  {
   "cell_type": "code",
   "execution_count": 37,
   "metadata": {},
   "outputs": [
    {
     "name": "stdout",
     "output_type": "stream",
     "text": [
      "1.0\n",
      "2.0\n",
      "3.0\n",
      "4.0\n",
      "5.0\n",
      "20.0\n",
      "31.0\n",
      "22.5\n",
      "11.5\n",
      "44.5\n",
      "45.0\n",
      "62.0\n"
     ]
    }
   ],
   "source": [
    "n = [2,4,6,8,10,40,62,45,23,89,90,124]\n",
    "\n",
    "for a in n:\n",
    "    res = a/2\n",
    "    if(res > 7):\n",
    "        print (res)"
   ]
  },
  {
   "cell_type": "code",
   "execution_count": null,
   "metadata": {},
   "outputs": [],
   "source": []
  }
 ],
 "metadata": {
  "kernelspec": {
   "display_name": "Python 3",
   "language": "python",
   "name": "python3"
  },
  "language_info": {
   "codemirror_mode": {
    "name": "ipython",
    "version": 3
   },
   "file_extension": ".py",
   "mimetype": "text/x-python",
   "name": "python",
   "nbconvert_exporter": "python",
   "pygments_lexer": "ipython3",
   "version": "3.7.7"
  }
 },
 "nbformat": 4,
 "nbformat_minor": 4
}
